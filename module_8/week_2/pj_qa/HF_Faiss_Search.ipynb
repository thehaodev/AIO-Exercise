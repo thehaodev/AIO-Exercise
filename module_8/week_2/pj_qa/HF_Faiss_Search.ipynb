{
  "nbformat": 4,
  "nbformat_minor": 0,
  "metadata": {
    "colab": {
      "provenance": [],
      "gpuType": "T4"
    },
    "kernelspec": {
      "name": "python3",
      "display_name": "Python 3"
    },
    "language_info": {
      "name": "python"
    },
    "accelerator": "GPU"
  },
  "cells": [
    {
      "cell_type": "markdown",
      "source": [
        "## **1. Install and import bibraries**"
      ],
      "metadata": {
        "id": "5C8jXzW55vTV"
      }
    },
    {
      "cell_type": "code",
      "execution_count": null,
      "metadata": {
        "colab": {
          "base_uri": "https://localhost:8080/"
        },
        "id": "D87uLZ8hvQZu",
        "outputId": "59ffe498-d55b-4585-add7-6c1bbb98e1d3"
      },
      "outputs": [
        {
          "output_type": "stream",
          "name": "stdout",
          "text": [
            "\u001b[?25l     \u001b[90m━━━━━━━━━━━━━━━━━━━━━━━━━━━━━━━━━━━━━━━━\u001b[0m \u001b[32m0.0/507.1 kB\u001b[0m \u001b[31m?\u001b[0m eta \u001b[36m-:--:--\u001b[0m\r\u001b[2K     \u001b[91m━━━━━━━━━━━━━━━━━━━━━━\u001b[0m\u001b[91m╸\u001b[0m\u001b[90m━━━━━━━━━━━━━━━━━\u001b[0m \u001b[32m286.7/507.1 kB\u001b[0m \u001b[31m8.4 MB/s\u001b[0m eta \u001b[36m0:00:01\u001b[0m\r\u001b[2K     \u001b[90m━━━━━━━━━━━━━━━━━━━━━━━━━━━━━━━━━━━━━━━━\u001b[0m \u001b[32m507.1/507.1 kB\u001b[0m \u001b[31m10.3 MB/s\u001b[0m eta \u001b[36m0:00:00\u001b[0m\n",
            "\u001b[2K     \u001b[90m━━━━━━━━━━━━━━━━━━━━━━━━━━━━━━━━━━━━━━━━\u001b[0m \u001b[32m84.1/84.1 kB\u001b[0m \u001b[31m12.0 MB/s\u001b[0m eta \u001b[36m0:00:00\u001b[0m\n",
            "\u001b[2K     \u001b[90m━━━━━━━━━━━━━━━━━━━━━━━━━━━━━━━━━━━━━━━━\u001b[0m \u001b[32m115.3/115.3 kB\u001b[0m \u001b[31m18.1 MB/s\u001b[0m eta \u001b[36m0:00:00\u001b[0m\n",
            "\u001b[2K     \u001b[90m━━━━━━━━━━━━━━━━━━━━━━━━━━━━━━━━━━━━━━━━\u001b[0m \u001b[32m134.8/134.8 kB\u001b[0m \u001b[31m15.2 MB/s\u001b[0m eta \u001b[36m0:00:00\u001b[0m\n",
            "\u001b[2K     \u001b[90m━━━━━━━━━━━━━━━━━━━━━━━━━━━━━━━━━━━━━━━━\u001b[0m \u001b[32m134.8/134.8 kB\u001b[0m \u001b[31m19.6 MB/s\u001b[0m eta \u001b[36m0:00:00\u001b[0m\n",
            "\u001b[?25h"
          ]
        }
      ],
      "source": [
        "!pip install -qq transformers[sentencepiece]==4.35.2 datasets==2.16.1 evaluate==0.4.1"
      ]
    },
    {
      "cell_type": "code",
      "source": [
        "!sudo apt-get install libomp-dev\n",
        "!pip install -qq faiss-gpu"
      ],
      "metadata": {
        "id": "byx40gtgqhxv"
      },
      "execution_count": null,
      "outputs": []
    },
    {
      "cell_type": "code",
      "source": [
        "import numpy as np\n",
        "import collections\n",
        "import torch\n",
        "import faiss\n",
        "import evaluate\n",
        "\n",
        "from datasets import load_dataset\n",
        "from transformers import AutoTokenizer, AutoModel\n",
        "from transformers import AutoModelForQuestionAnswering\n",
        "from transformers import TrainingArguments\n",
        "from transformers import Trainer\n",
        "from tqdm.auto import tqdm\n",
        "\n",
        "device = torch.device(\"cuda\") if torch.cuda.is_available() else torch.device(\"cpu\")"
      ],
      "metadata": {
        "id": "4GAgtobPvWRz"
      },
      "execution_count": null,
      "outputs": []
    },
    {
      "cell_type": "markdown",
      "source": [
        "## **2. Download dataset**"
      ],
      "metadata": {
        "id": "BSzModVq5wx2"
      }
    },
    {
      "cell_type": "code",
      "source": [
        "DATASET_NAME = 'squad_v2'\n",
        "raw_datasets = load_dataset(DATASET_NAME, split ='train+validation')\n",
        "raw_datasets"
      ],
      "metadata": {
        "id": "u4MXZs4gborS"
      },
      "execution_count": null,
      "outputs": []
    },
    {
      "cell_type": "markdown",
      "source": [
        "## **3. Filter out non-answerable samples**"
      ],
      "metadata": {
        "id": "qr66b79mBr0p"
      }
    },
    {
      "cell_type": "code",
      "source": [
        "# Lọc các tập dữ liệu\n",
        "raw_datasets = raw_datasets.filter(\n",
        "    lambda x: len(x['answers']['text']) > 0\n",
        ")"
      ],
      "metadata": {
        "id": "n5vTWVlVeB3N"
      },
      "execution_count": null,
      "outputs": []
    },
    {
      "cell_type": "markdown",
      "source": [
        "## **4. Intialize pre-trained model**"
      ],
      "metadata": {
        "id": "zincwHoGBybN"
      }
    },
    {
      "cell_type": "code",
      "source": [
        "# Đặt tên mô hình\n",
        "MODEL_NAME = \"distilbert-base-uncased\"\n",
        "\n",
        "# Khởi tạo tokenizer từ mô hình đã được huấn luyện\n",
        "tokenizer = AutoTokenizer.from_pretrained(MODEL_NAME)\n",
        "\n",
        "# Khởi tạo mô hình từ mô hình đã được huấn luyện\n",
        "model = AutoModel.from_pretrained(MODEL_NAME).to(device)"
      ],
      "metadata": {
        "id": "cMWwq2zSe-VP"
      },
      "execution_count": null,
      "outputs": []
    },
    {
      "cell_type": "markdown",
      "source": [
        "## **5. Create get vector embedding functions**"
      ],
      "metadata": {
        "id": "ZjbRxzyJB2Ne"
      }
    },
    {
      "cell_type": "code",
      "source": [
        "def cls_pooling(model_output):\n",
        "    return model_output.last_hidden_state[:, 0]"
      ],
      "metadata": {
        "id": "F5xDasEbi11B"
      },
      "execution_count": null,
      "outputs": []
    },
    {
      "cell_type": "code",
      "source": [
        "def get_embeddings(text_list):\n",
        "    encoded_input = tokenizer(\n",
        "        text_list,\n",
        "        padding=True,\n",
        "        truncation=True,\n",
        "        return_tensors='pt'\n",
        "    )\n",
        "    encoded_input = {k: v.to(device) for k, v in encoded_input.items()}\n",
        "    model_output = model(**encoded_input)\n",
        "    return cls_pooling(model_output)"
      ],
      "metadata": {
        "id": "1gWOz8ydB_u7"
      },
      "execution_count": null,
      "outputs": []
    },
    {
      "cell_type": "code",
      "source": [
        "EMBEDDING_COLUMN = 'question_embedding'\n",
        "embeddings_dataset = raw_datasets.map(\n",
        "    lambda x: {\n",
        "        EMBEDDING_COLUMN: get_embeddings(x['question']).detach().cpu().numpy()[0]\n",
        "    }\n",
        ")"
      ],
      "metadata": {
        "id": "kbAf9wREjlIf"
      },
      "execution_count": null,
      "outputs": []
    },
    {
      "cell_type": "code",
      "source": [
        "embeddings_dataset.add_faiss_index(column=EMBEDDING_COLUMN)"
      ],
      "metadata": {
        "id": "8qj8CqgRj4MK"
      },
      "execution_count": null,
      "outputs": []
    },
    {
      "cell_type": "markdown",
      "source": [
        "## **6. Search similar samples with a question**"
      ],
      "metadata": {
        "id": "VWxok5dWCBZZ"
      }
    },
    {
      "cell_type": "code",
      "source": [
        "question = 'When did Beyonce start becoming popular?'\n",
        "\n",
        "input_quest_embedding = get_embeddings([question]).cpu().detach().numpy()\n",
        "input_quest_embedding.shape"
      ],
      "metadata": {
        "id": "q3BR6BlzkxJv"
      },
      "execution_count": null,
      "outputs": []
    },
    {
      "cell_type": "code",
      "source": [
        "TOP_K = 5\n",
        "scores, samples = embeddings_dataset.get_nearest_examples(\n",
        "    EMBEDDING_COLUMN, input_quest_embedding, k=TOP_K\n",
        ")"
      ],
      "metadata": {
        "id": "SxniawBtlCMv"
      },
      "execution_count": null,
      "outputs": []
    },
    {
      "cell_type": "code",
      "source": [
        "for idx, score in enumerate(scores):\n",
        "    print(f'Top {idx + 1}\\tScore: {score}')\n",
        "    print(f'Question: {samples[\"question\"][idx]}')\n",
        "    print(f'Context: {samples[\"context\"][idx]}')\n",
        "    print(f'Answer: {samples[\"answers\"][idx]}')\n",
        "    print()"
      ],
      "metadata": {
        "id": "D0Y2e6H62vdy"
      },
      "execution_count": null,
      "outputs": []
    }
  ]
}