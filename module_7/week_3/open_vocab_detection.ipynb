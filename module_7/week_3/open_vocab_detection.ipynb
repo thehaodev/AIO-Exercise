{
  "nbformat": 4,
  "nbformat_minor": 0,
  "metadata": {
    "colab": {
      "provenance": []
    },
    "kernelspec": {
      "name": "python3",
      "display_name": "Python 3"
    },
    "language_info": {
      "name": "python"
    }
  },
  "cells": [
    {
      "cell_type": "code",
      "execution_count": null,
      "metadata": {
        "id": "Yb8iQx6n6jGo"
      },
      "outputs": [],
      "source": [
        "# Import necessary libraries\n",
        "from ultralytics import YOLOWorld\n",
        "from ultralytics.engine.results import Boxes\n",
        "from src.utils import save_detection_results\n",
        "\n",
        "# Initialize a YOLO-World model\n",
        "model = YOLOWorld(\"yolov8s-world.pt\")\n",
        "\n",
        "# Define custom classes\n",
        "model.set_classes([\"bus\"])  # Change this to the class you want to detect\n",
        "\n",
        "# Execute prediction on an image\n",
        "results: Boxes = model.predict(\"samples/bus.jpg\")\n",
        "\n",
        "# Save detection results as images\n",
        "save_detection_results(results)"
      ]
    }
  ]
}