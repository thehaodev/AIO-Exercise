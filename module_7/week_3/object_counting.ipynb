{
  "nbformat": 4,
  "nbformat_minor": 0,
  "metadata": {
    "colab": {
      "provenance": []
    },
    "kernelspec": {
      "name": "python3",
      "display_name": "Python 3"
    },
    "language_info": {
      "name": "python"
    }
  },
  "cells": [
    {
      "cell_type": "code",
      "execution_count": null,
      "metadata": {
        "id": "8nSjXpPi1VUo"
      },
      "outputs": [],
      "source": [
        "import cv2\n",
        "from ultralytics import solutions\n",
        "\n",
        "# Initialize video capture\n",
        "cap = cv2.VideoCapture(\"samples/highway.mp4\")\n",
        "assert cap.isOpened(), \"Error reading video file\"\n",
        "\n",
        "# Get video properties\n",
        "w, h, fps = (\n",
        "    int(cap.get(cv2.CAP_PROP_FRAME_WIDTH)),\n",
        "    int(cap.get(cv2.CAP_PROP_FRAME_HEIGHT)),\n",
        "    int(cap.get(cv2.CAP_PROP_FPS)),\n",
        ")\n",
        "\n",
        "# Define region points for counting\n",
        "region_points = [\n",
        "    (430, 700),\n",
        "    (1600, 700),\n",
        "    (1600, 1080),\n",
        "    (430, 1080),\n",
        "]\n",
        "\n",
        "# Initialize ObjectCounter\n",
        "counter = solutions.ObjectCounter(\n",
        "    show=False,  # Don't display the output\n",
        "    region=region_points,  # Pass region points\n",
        "    model=\"yolov5x.pt\",  # You may replace with your own model\n",
        ")\n",
        "\n",
        "# Initialize VideoWriter\n",
        "video_writer = cv2.VideoWriter(\n",
        "    \"./run/highway_counted.mp4\",\n",
        "    cv2.VideoWriter_fourcc(*\"mp4v\"),\n",
        "    fps,\n",
        "    (w, h)\n",
        ")\n",
        "\n",
        "# Process video\n",
        "while cap.isOpened():\n",
        "    success, im0 = cap.read()\n",
        "    if not success:\n",
        "        print(\"Video frame is empty or video processing has been successfully completed.\")\n",
        "        break\n",
        "\n",
        "    im0 = counter.count(im0)  # Count objects in the frame\n",
        "    video_writer.write(im0)  # Write the frame to the video\n",
        "\n",
        "# Release resources\n",
        "cap.release()\n",
        "video_writer.release()\n",
        "cv2.destroyAllWindows()"
      ]
    }
  ]
}